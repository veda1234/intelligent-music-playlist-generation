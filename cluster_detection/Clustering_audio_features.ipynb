{
 "cells": [
  {
   "cell_type": "code",
   "execution_count": 82,
   "id": "8808ae37",
   "metadata": {},
   "outputs": [],
   "source": [
    "from pyspark.ml.clustering import KMeans, KMeansModel\n",
    "from pyspark.ml.evaluation import ClusteringEvaluator\n",
    "from pyspark.ml.linalg import Vectors\n",
    "from pyspark.ml.feature import StandardScaler, PCA, MinMaxScaler,Normalizer, PCAModel\n",
    "import random\n",
    "from pyspark.ml.functions import vector_to_array\n",
    "import matplotlib.pyplot as plt\n",
    "import pandas as pd\n",
    "import json, pickle\n",
    "from math import inf, sqrt"
   ]
  },
  {
   "cell_type": "code",
   "execution_count": 2,
   "id": "e4ae657a",
   "metadata": {},
   "outputs": [],
   "source": [
    "from pyspark.sql import SparkSession"
   ]
  },
  {
   "cell_type": "code",
   "execution_count": 3,
   "id": "14af361c",
   "metadata": {},
   "outputs": [],
   "source": [
    "spark = SparkSession\\\n",
    "        .builder\\\n",
    "        .appName(\"KMeansCluster\")\\\n",
    "        .config(\"setMaster\", \"local[2]\")\\\n",
    "        .getOrCreate()"
   ]
  },
  {
   "cell_type": "code",
   "execution_count": 4,
   "id": "d44f4b62",
   "metadata": {},
   "outputs": [],
   "source": [
    "temp_path = \"Saved_S3/\""
   ]
  },
  {
   "cell_type": "code",
   "execution_count": 5,
   "id": "5d3fdc3c",
   "metadata": {},
   "outputs": [],
   "source": [
    "path = \"dataset_construction/dataset/\""
   ]
  },
  {
   "cell_type": "code",
   "execution_count": 6,
   "id": "a8b6a407",
   "metadata": {},
   "outputs": [],
   "source": [
    "filenames = os.listdir(path)"
   ]
  },
  {
   "cell_type": "code",
   "execution_count": 7,
   "id": "dda9d92b",
   "metadata": {},
   "outputs": [],
   "source": [
    "df_final = spark.read.option(\"multiline\", \"true\").json(path+filenames[0])"
   ]
  },
  {
   "cell_type": "code",
   "execution_count": 8,
   "id": "0cb772a0",
   "metadata": {},
   "outputs": [],
   "source": [
    "for filename in filenames[1:]:\n",
    "    full_path = path+filename\n",
    "    df = spark.read.option(\"multiline\", \"true\").json(full_path)\n",
    "    df_final = df_final.union(df)"
   ]
  },
  {
   "cell_type": "code",
   "execution_count": 9,
   "id": "395accbc",
   "metadata": {},
   "outputs": [],
   "source": [
    "df = df_final.drop('id','duration_ms','time_signature')"
   ]
  },
  {
   "cell_type": "code",
   "execution_count": 49,
   "id": "0a687511",
   "metadata": {},
   "outputs": [],
   "source": [
    "ids_of_songs = df_final.select('id')"
   ]
  },
  {
   "cell_type": "code",
   "execution_count": 10,
   "id": "357d5ced",
   "metadata": {},
   "outputs": [
    {
     "data": {
      "text/plain": [
       "2262190"
      ]
     },
     "execution_count": 10,
     "metadata": {},
     "output_type": "execute_result"
    }
   ],
   "source": [
    "df.count()"
   ]
  },
  {
   "cell_type": "code",
   "execution_count": 11,
   "id": "6a742506",
   "metadata": {},
   "outputs": [
    {
     "data": {
      "text/plain": [
       "11"
      ]
     },
     "execution_count": 11,
     "metadata": {},
     "output_type": "execute_result"
    }
   ],
   "source": [
    "len(df.columns)"
   ]
  },
  {
   "cell_type": "code",
   "execution_count": 12,
   "id": "d85e97e5",
   "metadata": {},
   "outputs": [
    {
     "name": "stdout",
     "output_type": "stream",
     "text": [
      "root\n",
      " |-- acousticness: double (nullable = true)\n",
      " |-- danceability: double (nullable = true)\n",
      " |-- energy: double (nullable = true)\n",
      " |-- instrumentalness: double (nullable = true)\n",
      " |-- key: long (nullable = true)\n",
      " |-- liveness: double (nullable = true)\n",
      " |-- loudness: double (nullable = true)\n",
      " |-- mode: long (nullable = true)\n",
      " |-- speechiness: double (nullable = true)\n",
      " |-- tempo: double (nullable = true)\n",
      " |-- valence: double (nullable = true)\n",
      "\n"
     ]
    }
   ],
   "source": [
    "# acousticness : A confidence measure from 0.0 to 1.0 of whether the track is acoustic. 1.0 represents high \n",
    "#confidence the track is acoustic.\n",
    "\n",
    "#danceability : Danceability describes how suitable a track is for dancing based on a combination of musical elements \n",
    "#including tempo, rhythm stability, beat strength, and overall regularity. \n",
    "#A value of 0.0 is least danceable and 1.0 is most danceable.\n",
    "\n",
    "# energy : Energy is a measure from 0.0 to 1.0 and represents a perceptual measure of intensity and activity. \n",
    "# Typically, energetic tracks feel fast, loud, and noisy. For example, death metal has high energy, while a Bach prelude scores low on the scale. Perceptual features contributing to this attribute include dynamic range, perceived loudness, timbre, onset rate, and general entropy.\n",
    "\n",
    "# instrumentalness : Predicts whether a track contains no vocals. \"Ooh\" and \"aah\" sounds are treated as instrumental \n",
    "# in this context. Values above 0.5 are intended to represent instrumental tracks, but confidence is higher as the value approaches 1.0.\n",
    "\n",
    "# key : The key the track is in. Integers map to pitches using standard Pitch Class notation. E.g. 0 = C, 1 = C♯/D♭, 2 = D, and so on. If no key was detected, the value is -1.\n",
    "\n",
    "# liveness : Detects the presence of an audience in the recording. Higher liveness values represent an increased probability that the track was performed live. A value above 0.8 provides strong likelihood that the track is live.\n",
    "\n",
    "# loudness :  Loudness is the quality of a sound that is the primary psychological correlate of physical strength (amplitude). Values typically range between -60 and 0 db.\n",
    "\n",
    "# mode : Mode indicates the modality (major or minor) of a track, the type of scale from which its melodic content is derived. Major is represented by 1 and minor is 0.\n",
    "\n",
    "# speechiness : Speechiness detects the presence of spoken words in a track. The more exclusively speech-like the recording (e.g. talk show, audio book, poetry), the closer to 1.0 the attribute value. \n",
    "\n",
    "# tempo : The overall estimated tempo of a track in beats per minute (BPM). In musical terminology, tempo is the speed or pace of a given piece and derives directly from the average beat duration.\n",
    "\n",
    "# valence : A measure from 0.0 to 1.0 describing the musical positiveness conveyed by a track.\n",
    "\n",
    "df.printSchema() "
   ]
  },
  {
   "cell_type": "code",
   "execution_count": 13,
   "id": "49dfbe7f",
   "metadata": {},
   "outputs": [
    {
     "name": "stdout",
     "output_type": "stream",
     "text": [
      "+------------+------------+------+----------------+---+--------+--------+----+-----------+-------+-------+\n",
      "|acousticness|danceability|energy|instrumentalness|key|liveness|loudness|mode|speechiness|  tempo|valence|\n",
      "+------------+------------+------+----------------+---+--------+--------+----+-----------+-------+-------+\n",
      "|      0.0184|       0.533| 0.699|         0.00511|  0|   0.163|  -7.782|   1|     0.0399|143.426|   0.62|\n",
      "|       0.563|       0.609| 0.606|           0.576|  9|     0.1|  -7.559|   0|     0.0583| 83.986|  0.362|\n",
      "+------------+------------+------+----------------+---+--------+--------+----+-----------+-------+-------+\n",
      "only showing top 2 rows\n",
      "\n"
     ]
    }
   ],
   "source": [
    "df.show(2)"
   ]
  },
  {
   "cell_type": "code",
   "execution_count": 14,
   "id": "8a55ceeb",
   "metadata": {},
   "outputs": [],
   "source": [
    "dataset = df.rdd.map(lambda x:(Vectors.dense(x), 0)).toDF([\"features\"])"
   ]
  },
  {
   "cell_type": "code",
   "execution_count": 16,
   "id": "d24c91aa",
   "metadata": {},
   "outputs": [],
   "source": [
    "dataset = dataset.drop('_2')"
   ]
  },
  {
   "cell_type": "code",
   "execution_count": 17,
   "id": "45483efa",
   "metadata": {},
   "outputs": [],
   "source": [
    "scale_std = StandardScaler(inputCol='features',outputCol='standardized_std')"
   ]
  },
  {
   "cell_type": "code",
   "execution_count": 18,
   "id": "6d69761e",
   "metadata": {},
   "outputs": [],
   "source": [
    "data_scale_std = scale_std.fit(dataset)"
   ]
  },
  {
   "cell_type": "code",
   "execution_count": 19,
   "id": "2abf3d6f",
   "metadata": {},
   "outputs": [],
   "source": [
    "data_scale_std = data_scale_std.transform(dataset)"
   ]
  },
  {
   "cell_type": "code",
   "execution_count": 20,
   "id": "d701c7e5",
   "metadata": {},
   "outputs": [
    {
     "name": "stdout",
     "output_type": "stream",
     "text": [
      "+--------------------+--------------------+\n",
      "|            features|    standardized_std|\n",
      "+--------------------+--------------------+\n",
      "|[0.0184,0.533,0.6...|[0.05191944023025...|\n",
      "|[0.563,0.609,0.60...|[1.58862200269756...|\n",
      "+--------------------+--------------------+\n",
      "only showing top 2 rows\n",
      "\n"
     ]
    }
   ],
   "source": [
    "data_scale_std.show(2)"
   ]
  },
  {
   "cell_type": "code",
   "execution_count": 21,
   "id": "d61ed66d",
   "metadata": {},
   "outputs": [],
   "source": [
    "pca = PCA(k=11,inputCol=\"standardized_std\",outputCol=\"pca_output\")"
   ]
  },
  {
   "cell_type": "code",
   "execution_count": 22,
   "id": "197a7d8f",
   "metadata": {},
   "outputs": [],
   "source": [
    "pca_model_components_fit = pca.fit(data_scale_std)"
   ]
  },
  {
   "cell_type": "code",
   "execution_count": 23,
   "id": "f7b2e35c",
   "metadata": {},
   "outputs": [],
   "source": [
    "pca_model_components = pca_model_components_fit.transform(data_scale_std)"
   ]
  },
  {
   "cell_type": "code",
   "execution_count": 24,
   "id": "8989532a",
   "metadata": {},
   "outputs": [],
   "source": [
    "variances = pca_model_components_fit.explainedVariance"
   ]
  },
  {
   "cell_type": "code",
   "execution_count": 25,
   "id": "b929ceeb",
   "metadata": {},
   "outputs": [],
   "source": [
    "store_cumulative_score = []\n",
    "cum_sum = 0\n",
    "desired_no_components = 0\n",
    "counter=0\n",
    "for i in variances:\n",
    "    counter+=1\n",
    "    cum_sum += i\n",
    "    if cum_sum >= 0.8 and (desired_no_components == 0):\n",
    "        desired_no_components = counter\n",
    "    store_cumulative_score.append(cum_sum)"
   ]
  },
  {
   "cell_type": "code",
   "execution_count": 26,
   "id": "c088c258",
   "metadata": {},
   "outputs": [
    {
     "data": {
      "image/png": "[encoded data removed]",
      "text/plain": [
       "<Figure size 432x288 with 1 Axes>"
      ]
     },
     "metadata": {
      "needs_background": "light"
     },
     "output_type": "display_data"
    }
   ],
   "source": [
    "plt.plot(store_cumulative_score)\n",
    "plt.ylabel('Cumulative Explained Variance')\n",
    "plt.xlabel('Number of components')\n",
    "plt.title('Cumulative plot after PCA')\n",
    "plt.grid()"
   ]
  },
  {
   "cell_type": "code",
   "execution_count": 27,
   "id": "46398c6c",
   "metadata": {},
   "outputs": [
    {
     "name": "stdout",
     "output_type": "stream",
     "text": [
      "Number of components selected variance : 7\n"
     ]
    }
   ],
   "source": [
    "print(\"Number of components selected variance : \"+str(desired_no_components))"
   ]
  },
  {
   "cell_type": "code",
   "execution_count": 28,
   "id": "2b0ffb12",
   "metadata": {},
   "outputs": [],
   "source": [
    "# Now do PCA with desired number of components\n",
    "pca = PCA(k=desired_no_components,inputCol=\"features\",outputCol=\"pca_output\")"
   ]
  },
  {
   "cell_type": "code",
   "execution_count": 29,
   "id": "510284c2",
   "metadata": {},
   "outputs": [],
   "source": [
    "pca_model = pca.fit(dataset)"
   ]
  },
  {
   "cell_type": "code",
   "execution_count": 30,
   "id": "19f5cc35",
   "metadata": {},
   "outputs": [],
   "source": [
    "modelPath = temp_path + \"/pca-model\""
   ]
  },
  {
   "cell_type": "code",
   "execution_count": 31,
   "id": "82307a32",
   "metadata": {},
   "outputs": [],
   "source": [
    "pca_model.save(modelPath)"
   ]
  },
  {
   "cell_type": "code",
   "execution_count": 32,
   "id": "109613f9",
   "metadata": {},
   "outputs": [],
   "source": [
    "loadedModel = PCAModel.load(modelPath)"
   ]
  },
  {
   "cell_type": "code",
   "execution_count": 33,
   "id": "6a23111e",
   "metadata": {},
   "outputs": [
    {
     "data": {
      "text/plain": [
       "True"
      ]
     },
     "execution_count": 33,
     "metadata": {},
     "output_type": "execute_result"
    }
   ],
   "source": [
    "# Check if we have have the right model\n",
    "loadedModel.pc == pca_model.pc"
   ]
  },
  {
   "cell_type": "code",
   "execution_count": 34,
   "id": "3bbdf2ea",
   "metadata": {},
   "outputs": [],
   "source": [
    "pca_dataset = pca_model.transform(dataset)"
   ]
  },
  {
   "cell_type": "code",
   "execution_count": 35,
   "id": "f77f3ecf",
   "metadata": {},
   "outputs": [
    {
     "name": "stdout",
     "output_type": "stream",
     "text": [
      "+--------------------+--------------------+\n",
      "|            features|          pca_output|\n",
      "+--------------------+--------------------+\n",
      "|[0.0184,0.533,0.6...|[142.993122049265...|\n",
      "|[0.563,0.609,0.60...|[83.6187471183277...|\n",
      "+--------------------+--------------------+\n",
      "only showing top 2 rows\n",
      "\n"
     ]
    }
   ],
   "source": [
    "pca_dataset.show(2)"
   ]
  },
  {
   "cell_type": "code",
   "execution_count": 37,
   "id": "e8f22fbe",
   "metadata": {},
   "outputs": [
    {
     "name": "stdout",
     "output_type": "stream",
     "text": [
      "Silhouette with squared euclidean distance, K : 0.6787138206440881 2\n",
      "Silhouette with squared euclidean distance, K : 0.6989210280470041 3\n",
      "Silhouette with squared euclidean distance, K : 0.6004689804796427 4\n",
      "Silhouette with squared euclidean distance, K : 0.5867034301886304 5\n",
      "Silhouette with squared euclidean distance, K : 0.5253868265575492 6\n",
      "Silhouette with squared euclidean distance, K : 0.5153210369479297 7\n",
      "Silhouette with squared euclidean distance, K : 0.508603645940609 8\n",
      "Silhouette with squared euclidean distance, K : 0.5103744620972183 9\n",
      "Silhouette with squared euclidean distance, K : 0.4661230031801494 10\n"
     ]
    }
   ],
   "source": [
    "for j in range(2,11):\n",
    "    kmeans = KMeans(featuresCol='pca_output',k=j).setSeed(random.randint(10,100))\n",
    "    K_means_model = kmeans.fit(pca_dataset)\n",
    "    predictions = K_means_model.transform(pca_dataset)\n",
    "    evaluator = ClusteringEvaluator()\n",
    "    silhouette = evaluator.evaluate(predictions)\n",
    "    print(\"Silhouette with squared euclidean distance, K : \" + str(silhouette)+\" \"+str(j))"
   ]
  },
  {
   "cell_type": "code",
   "execution_count": 38,
   "id": "a229ed7e",
   "metadata": {},
   "outputs": [],
   "source": [
    "kmeans = KMeans(featuresCol='pca_output',k=7).setSeed(random.randint(10,100))"
   ]
  },
  {
   "cell_type": "code",
   "execution_count": 39,
   "id": "1f4b598e",
   "metadata": {},
   "outputs": [],
   "source": [
    "K_means_model = kmeans.fit(pca_dataset)"
   ]
  },
  {
   "cell_type": "code",
   "execution_count": 40,
   "id": "e191b72f",
   "metadata": {},
   "outputs": [],
   "source": [
    "predictions = K_means_model.transform(pca_dataset)"
   ]
  },
  {
   "cell_type": "code",
   "execution_count": 41,
   "id": "7f3923fe",
   "metadata": {},
   "outputs": [],
   "source": [
    "evaluator = ClusteringEvaluator()"
   ]
  },
  {
   "cell_type": "code",
   "execution_count": 42,
   "id": "f4ab1fbd",
   "metadata": {},
   "outputs": [
    {
     "name": "stdout",
     "output_type": "stream",
     "text": [
      "Silhouette with squared euclidean distance : 0.5195549671404569\n"
     ]
    }
   ],
   "source": [
    "silhouette = evaluator.evaluate(predictions)\n",
    "print(\"Silhouette with squared euclidean distance : \" + str(silhouette))"
   ]
  },
  {
   "cell_type": "code",
   "execution_count": 43,
   "id": "7562cf9c",
   "metadata": {},
   "outputs": [],
   "source": [
    "modelPath_kmeans = temp_path + \"/kmeans-model\""
   ]
  },
  {
   "cell_type": "code",
   "execution_count": 44,
   "id": "d99edd97",
   "metadata": {},
   "outputs": [],
   "source": [
    "K_means_model.save(modelPath_kmeans)"
   ]
  },
  {
   "cell_type": "code",
   "execution_count": 45,
   "id": "ab41f6af",
   "metadata": {},
   "outputs": [],
   "source": [
    "load_kmeans_model = KMeansModel.load(modelPath_kmeans)"
   ]
  },
  {
   "cell_type": "code",
   "execution_count": 46,
   "id": "944c4918",
   "metadata": {},
   "outputs": [
    {
     "name": "stdout",
     "output_type": "stream",
     "text": [
      "Cluster Centers: \n",
      "[107.22095172  13.88609519  -5.61205912   0.71111087  -0.22198325\n",
      "   0.6533063   -0.64056935]\n",
      "[143.27848929  14.44075803  -5.60475641   0.70769733  -0.18836759\n",
      "   0.62618328  -0.57393906]\n",
      "[125.12262201  13.79813713  -5.65089599   0.66156886  -0.15010067\n",
      "   0.68150013  -0.62628421]\n",
      "[168.67545668  15.16123442  -5.60528997   0.70835058  -0.20888915\n",
      "   0.59840914  -0.57389358]\n",
      "[191.97899524  16.18230746  -5.63628117   0.75260153  -0.25438885\n",
      "   0.55805303  -0.59638668]\n",
      "[72.36911081 17.844295   -5.62093489  0.72066676 -0.16344237  0.5523817\n",
      " -0.53371017]\n",
      "[90.15726087 12.86228506 -5.62978702  0.70368198 -0.23529283  0.63912888\n",
      " -0.61074817]\n"
     ]
    }
   ],
   "source": [
    "# Checking if we have the right centers\n",
    "centers = load_kmeans_model.clusterCenters()\n",
    "print(\"Cluster Centers: \")\n",
    "for center in centers:\n",
    "    print(center)"
   ]
  },
  {
   "cell_type": "code",
   "execution_count": 57,
   "id": "b871d7d6",
   "metadata": {},
   "outputs": [],
   "source": [
    "predictions = predictions.select('prediction').toPandas()"
   ]
  },
  {
   "cell_type": "code",
   "execution_count": 58,
   "id": "659b515e",
   "metadata": {},
   "outputs": [],
   "source": [
    "ids_of_songs = ids_of_songs.toPandas()"
   ]
  },
  {
   "cell_type": "code",
   "execution_count": 73,
   "id": "647e8fd5",
   "metadata": {},
   "outputs": [],
   "source": [
    "predictions = predictions.rename(columns={'prediction':'cluster_id'})"
   ]
  },
  {
   "cell_type": "code",
   "execution_count": 74,
   "id": "4163631a",
   "metadata": {},
   "outputs": [],
   "source": [
    "final_df = pd.concat([ids_of_songs,predictions],axis=1)"
   ]
  },
  {
   "cell_type": "code",
   "execution_count": 75,
   "id": "a946201f",
   "metadata": {},
   "outputs": [
    {
     "data": {
      "text/html": [
       "<div>\n",
       "<style scoped>\n",
       "    .dataframe tbody tr th:only-of-type {\n",
       "        vertical-align: middle;\n",
       "    }\n",
       "\n",
       "    .dataframe tbody tr th {\n",
       "        vertical-align: top;\n",
       "    }\n",
       "\n",
       "    .dataframe thead th {\n",
       "        text-align: right;\n",
       "    }\n",
       "</style>\n",
       "<table border=\"1\" class=\"dataframe\">\n",
       "  <thead>\n",
       "    <tr style=\"text-align: right;\">\n",
       "      <th></th>\n",
       "      <th>id</th>\n",
       "      <th>cluster_id</th>\n",
       "    </tr>\n",
       "  </thead>\n",
       "  <tbody>\n",
       "    <tr>\n",
       "      <th>0</th>\n",
       "      <td>4ewx6y0PsZj7vY5eMqmU19</td>\n",
       "      <td>1</td>\n",
       "    </tr>\n",
       "    <tr>\n",
       "      <th>1</th>\n",
       "      <td>1rRUPou2hzjQ1DDJoBhLPp</td>\n",
       "      <td>6</td>\n",
       "    </tr>\n",
       "    <tr>\n",
       "      <th>2</th>\n",
       "      <td>5PSFr1lLBMDOTf64Wfbz2w</td>\n",
       "      <td>4</td>\n",
       "    </tr>\n",
       "    <tr>\n",
       "      <th>3</th>\n",
       "      <td>1IwuYbRJsKSg9ONW6J2p9A</td>\n",
       "      <td>6</td>\n",
       "    </tr>\n",
       "    <tr>\n",
       "      <th>4</th>\n",
       "      <td>4c2k8o224i1em0fLTVUd7k</td>\n",
       "      <td>4</td>\n",
       "    </tr>\n",
       "    <tr>\n",
       "      <th>...</th>\n",
       "      <td>...</td>\n",
       "      <td>...</td>\n",
       "    </tr>\n",
       "    <tr>\n",
       "      <th>2262185</th>\n",
       "      <td>59ocQv18mhv8SlLDB7pUU3</td>\n",
       "      <td>3</td>\n",
       "    </tr>\n",
       "    <tr>\n",
       "      <th>2262186</th>\n",
       "      <td>5SrGylgtB1zUpXM8AVdUpc</td>\n",
       "      <td>5</td>\n",
       "    </tr>\n",
       "    <tr>\n",
       "      <th>2262187</th>\n",
       "      <td>3lvBMabCYCgvuaNDMCCjtE</td>\n",
       "      <td>5</td>\n",
       "    </tr>\n",
       "    <tr>\n",
       "      <th>2262188</th>\n",
       "      <td>68hF5EW9EAwUlIMwGuZ60G</td>\n",
       "      <td>2</td>\n",
       "    </tr>\n",
       "    <tr>\n",
       "      <th>2262189</th>\n",
       "      <td>5x5VRiFwhl7nIyVzIvBnWb</td>\n",
       "      <td>1</td>\n",
       "    </tr>\n",
       "  </tbody>\n",
       "</table>\n",
       "<p>2262190 rows × 2 columns</p>\n",
       "</div>"
      ],
      "text/plain": [
       "                             id  cluster_id\n",
       "0        4ewx6y0PsZj7vY5eMqmU19           1\n",
       "1        1rRUPou2hzjQ1DDJoBhLPp           6\n",
       "2        5PSFr1lLBMDOTf64Wfbz2w           4\n",
       "3        1IwuYbRJsKSg9ONW6J2p9A           6\n",
       "4        4c2k8o224i1em0fLTVUd7k           4\n",
       "...                         ...         ...\n",
       "2262185  59ocQv18mhv8SlLDB7pUU3           3\n",
       "2262186  5SrGylgtB1zUpXM8AVdUpc           5\n",
       "2262187  3lvBMabCYCgvuaNDMCCjtE           5\n",
       "2262188  68hF5EW9EAwUlIMwGuZ60G           2\n",
       "2262189  5x5VRiFwhl7nIyVzIvBnWb           1\n",
       "\n",
       "[2262190 rows x 2 columns]"
      ]
     },
     "execution_count": 75,
     "metadata": {},
     "output_type": "execute_result"
    }
   ],
   "source": [
    "final_df"
   ]
  },
  {
   "cell_type": "code",
   "execution_count": 76,
   "id": "f7901faa",
   "metadata": {},
   "outputs": [],
   "source": [
    "final = final_df.to_json(orient='index')"
   ]
  },
  {
   "cell_type": "code",
   "execution_count": 79,
   "id": "548179ca",
   "metadata": {},
   "outputs": [],
   "source": [
    "final = json.loads(final)"
   ]
  },
  {
   "cell_type": "code",
   "execution_count": 80,
   "id": "0e9771c1",
   "metadata": {},
   "outputs": [],
   "source": [
    "load_dict = {}\n",
    "for f in final: \n",
    "    load_dict[final[f][\"id\"]] = final[f][\"cluster_id\"]"
   ]
  },
  {
   "cell_type": "code",
   "execution_count": 83,
   "id": "879fc9b6",
   "metadata": {},
   "outputs": [],
   "source": [
    "with open('final_results.pkl', 'wb') as f:\n",
    "    pickle.dump(load_dict, f)"
   ]
  },
  {
   "cell_type": "code",
   "execution_count": 84,
   "id": "11482f98",
   "metadata": {},
   "outputs": [],
   "source": [
    "with open('final_results.pkl', 'rb') as f:\n",
    "    data = pickle.load(f)"
   ]
  }
 ],
 "metadata": {
  "kernelspec": {
   "display_name": "Python 3.8.8 64-bit ('base': conda)",
   "language": "python",
   "name": "python388jvsc74a57bd0dca0ade3e726a953b501b15e8e990130d2b7799f14cfd9f4271676035ebe5511"
  },
  "language_info": {
   "codemirror_mode": {
    "name": "ipython",
    "version": 3
   },
   "file_extension": ".py",
   "mimetype": "text/x-python",
   "name": "python",
   "nbconvert_exporter": "python",
   "pygments_lexer": "ipython3",
   "version": "3.8.8"
  }
 },
 "nbformat": 4,
 "nbformat_minor": 5
}
